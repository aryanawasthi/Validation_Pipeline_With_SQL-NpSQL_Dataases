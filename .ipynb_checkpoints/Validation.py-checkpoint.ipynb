{
 "cells": [
  {
   "cell_type": "code",
   "execution_count": 4,
   "metadata": {},
   "outputs": [
    {
     "name": "stdout",
     "output_type": "stream",
     "text": [
      "Collecting pyspark\n",
      "\u001b[?25l  Downloading https://files.pythonhosted.org/packages/6d/08/87b404b8b3255d46caf0ecdccf871d501a2b58da9b844d3f9710ce9d4d53/pyspark-3.3.2.tar.gz (281.4MB)\n",
      "\u001b[K     |████████████████████████████████| 281.4MB 3.8MB/s eta 0:00:013  |▊                               | 6.2MB 3.9MB/s eta 0:01:11     |████████████████████████████    | 245.3MB 3.6MB/s eta 0:00:11\n",
      "\u001b[?25hCollecting py4j==0.10.9.5 (from pyspark)\n",
      "\u001b[?25l  Downloading https://files.pythonhosted.org/packages/86/ec/60880978512d5569ca4bf32b3b4d7776a528ecf4bca4523936c98c92a3c8/py4j-0.10.9.5-py2.py3-none-any.whl (199kB)\n",
      "\u001b[K     |████████████████████████████████| 204kB 4.6MB/s eta 0:00:01\n",
      "\u001b[?25hBuilding wheels for collected packages: pyspark\n",
      "  Building wheel for pyspark (setup.py) ... \u001b[?25ldone\n",
      "\u001b[?25h  Stored in directory: /home/aryan/snap/jupyter/6/.cache/pip/wheels/a0/cd/51/9c10e56c6e5aabd71b659e6bf93e26f0bf85aa8c6364514deb\n",
      "Successfully built pyspark\n",
      "Installing collected packages: py4j, pyspark\n",
      "Successfully installed py4j-0.10.9.5 pyspark-3.3.2\n"
     ]
    }
   ],
   "source": [
    "!pip install pyspark"
   ]
  },
  {
   "cell_type": "code",
   "execution_count": 7,
   "metadata": {},
   "outputs": [
    {
     "ename": "ModuleNotFoundError",
     "evalue": "No module named 'pandas'",
     "output_type": "error",
     "traceback": [
      "\u001b[0;31m---------------------------------------------------------------------------\u001b[0m",
      "\u001b[0;31mModuleNotFoundError\u001b[0m                       Traceback (most recent call last)",
      "\u001b[0;32m<ipython-input-7-7dd3504c366f>\u001b[0m in \u001b[0;36m<module>\u001b[0;34m\u001b[0m\n\u001b[0;32m----> 1\u001b[0;31m \u001b[0;32mimport\u001b[0m \u001b[0mpandas\u001b[0m \u001b[0;32mas\u001b[0m \u001b[0mpd\u001b[0m\u001b[0;34m\u001b[0m\u001b[0;34m\u001b[0m\u001b[0m\n\u001b[0m",
      "\u001b[0;31mModuleNotFoundError\u001b[0m: No module named 'pandas'"
     ]
    }
   ],
   "source": [
    "import pandas as pd"
   ]
  },
  {
   "cell_type": "code",
   "execution_count": 2,
   "metadata": {},
   "outputs": [],
   "source": [
    "import pandas\n",
    "import pyspark\n",
    "from pyspark.sql import SparkSession"
   ]
  },
  {
   "cell_type": "code",
   "execution_count": 3,
   "metadata": {},
   "outputs": [
    {
     "name": "stdout",
     "output_type": "stream",
     "text": [
      "23/04/08 18:20:58 WARN Utils: Your hostname, aryan-HP-EliteBook-Folio-9470m resolves to a loopback address: 127.0.1.1; using 192.168.29.242 instead (on interface wlo1)\n",
      "23/04/08 18:20:58 WARN Utils: Set SPARK_LOCAL_IP if you need to bind to another address\n"
     ]
    },
    {
     "name": "stderr",
     "output_type": "stream",
     "text": [
      "Setting default log level to \"WARN\".\n",
      "To adjust logging level use sc.setLogLevel(newLevel). For SparkR, use setLogLevel(newLevel).\n"
     ]
    },
    {
     "name": "stdout",
     "output_type": "stream",
     "text": [
      "23/04/08 18:20:59 WARN NativeCodeLoader: Unable to load native-hadoop library for your platform... using builtin-java classes where applicable\n"
     ]
    }
   ],
   "source": [
    "spark=SparkSession.builder.appName(\"first_Application\").master(\"local[*]\").master(\"local[*]\").getOrCreate()\n"
   ]
  },
  {
   "cell_type": "code",
   "execution_count": 4,
   "metadata": {},
   "outputs": [
    {
     "data": {
      "text/html": [
       "\n",
       "            <div>\n",
       "                <p><b>SparkSession - in-memory</b></p>\n",
       "                \n",
       "        <div>\n",
       "            <p><b>SparkContext</b></p>\n",
       "\n",
       "            <p><a href=\"http://192.168.29.242:4040\">Spark UI</a></p>\n",
       "\n",
       "            <dl>\n",
       "              <dt>Version</dt>\n",
       "                <dd><code>v3.3.1</code></dd>\n",
       "              <dt>Master</dt>\n",
       "                <dd><code>local[*]</code></dd>\n",
       "              <dt>AppName</dt>\n",
       "                <dd><code>first_Application</code></dd>\n",
       "            </dl>\n",
       "        </div>\n",
       "        \n",
       "            </div>\n",
       "        "
      ],
      "text/plain": [
       "<pyspark.sql.session.SparkSession at 0x7f028f3ba680>"
      ]
     },
     "execution_count": 4,
     "metadata": {},
     "output_type": "execute_result"
    }
   ],
   "source": [
    "spark"
   ]
  },
  {
   "cell_type": "code",
   "execution_count": 21,
   "metadata": {},
   "outputs": [],
   "source": [
    "data_json=spark.read.format(\"json\").option(\"multiline\",True).option(\"path\",\"/home/aryan/Music/YouTube_Analysis_Data/CA_category_id.json\").load()"
   ]
  },
  {
   "cell_type": "code",
   "execution_count": 26,
   "metadata": {},
   "outputs": [
    {
     "name": "stdout",
     "output_type": "stream",
     "text": [
      "root\n",
      " |-- etag: string (nullable = true)\n",
      " |-- items: array (nullable = true)\n",
      " |    |-- element: struct (containsNull = true)\n",
      " |    |    |-- etag: string (nullable = true)\n",
      " |    |    |-- id: string (nullable = true)\n",
      " |    |    |-- kind: string (nullable = true)\n",
      " |    |    |-- snippet: struct (nullable = true)\n",
      " |    |    |    |-- assignable: boolean (nullable = true)\n",
      " |    |    |    |-- channelId: string (nullable = true)\n",
      " |    |    |    |-- title: string (nullable = true)\n",
      " |-- kind: string (nullable = true)\n",
      "\n"
     ]
    }
   ],
   "source": [
    "data_json.selct"
   ]
  },
  {
   "cell_type": "code",
   "execution_count": 46,
   "metadata": {},
   "outputs": [
    {
     "data": {
      "text/plain": [
       "DataFrame[items: array<struct<etag:string,id:string,kind:string,snippet:struct<assignable:boolean,channelId:string,title:string>>>]"
      ]
     },
     "metadata": {},
     "output_type": "display_data"
    }
   ],
   "source": [
    "data=data_json.select(\"items\")\n",
    "\n",
    "\n",
    "\"\"\"[Row(items=[Row(etag='\"ld9biNPKjAjgjV7EZ4EKeEGrhao/Xy1mB4_yLrHy_BmKmPBggty2mZQ\"', id='1', \n",
    "kind='youtube#videoCategory', snippet=Row(assignable=True, channelId='UCBR8-60-B28hp2BmDPdntcQ',\n",
    "title='Film & Animation')), Row(etag='\"ld9biNPKjAjgjV7EZ4EKeEGrhao/UZ1oLIIz2dxIhO45ZTFR3a3NyTA\"', id='2', \n",
    "kind='youtube#videoCategory', snippet=Row(assignable=True, channelId='UCBR8-60-B28hp2BmDPdntcQ', \n",
    "title='Autos & Vehicles')), Row(etag='\"ld9biNPKjAjgjV7EZ4EKeEGrhao/nqRIq97-xe5XRZTxbknKFVe5Lmg\"', id='10', \n",
    "kind='youtube#videoCategory', snippet=Row(assignable=True, channelId='UCBR8-60-B28hp2BmDPdntcQ', title='Music')\n",
    "), Row(etag='\"ld9biNPKjAjgjV7EZ4EKeEGrhao/HwXKamM1Q20q9BN-oBJavSGkfDI\"', id='15', kind='youtube#videoCategory',\n",
    "snippet=Row(assignable=True, channelId='UCBR8-60-B28hp2BmDPdntcQ', title='Pets & Animals')),\n",
    "Row(etag='\"ld9biNPKjAjgjV7EZ4EKeEGrhao/9GQMSRjrZdHeb1OEM1XVQ9zbGec\"', id='17', kind='youtube#videoCategory', \n",
    "snippet=Row(assignable=True, channelId='UCBR8-60-B28hp2BmDPdntcQ', title='Sports')), \n",
    "Row(etag='\"ld9biNPKjAjgjV7EZ4EKeEGrhao/FJwVpGCVZ1yiJrqZbpqe68Sy_OE\"', id='18', kind='youtube#videoCategory', \n",
    "snippet=Row(assignable=False, channelId='UCBR8-60-B28hp2BmDPdntcQ', title='Short Movies')), \n",
    "Row(etag='\"ld9biNPKjAjgjV7EZ4EKeEGrhao/M-3iD9dwK7YJCafRf_DkLN8CouA\"', id='19', kind='youtube#videoCategory', \n",
    "snippet=Row(assignable=True, channelId='UCBR8-60-B28hp2BmDPdntcQ', title='Travel & Events'))\"\"\"\n",
    "\n",
    "# There are many issues with the data such as for each items we have an row item but for every item we have \n",
    "# snippet=row whcih contains the title which we have to use also for our pipeline.\n",
    "display(data)"
   ]
  },
  {
   "cell_type": "code",
   "execution_count": 85,
   "metadata": {},
   "outputs": [],
   "source": [
    "json_obj='''\n",
    "{\n",
    " \"items\": [\n",
    "  {\n",
    "   \"kind\": \"youtube#videoCategory\",\n",
    "   \"etag\": \"\\\"ld9biNPKjAjgjV7EZ4EKeEGrhao/Xy1mB4_yLrHy_BmKmPBggty2mZQ\\\"\",\n",
    "   \"id\": \"1\",\n",
    "   \"snippet\": {\n",
    "    \"channelId\": \"UCBR8-60-B28hp2BmDPdntcQ\",\n",
    "    \"title\": \"Film & Animation\",\n",
    "    \"assignable\": true\n",
    "   }\n",
    "  },\n",
    "  {\n",
    "   \"kind\": \"youtube#videoCategory\",\n",
    "   \"etag\": \"\\\"ld9biNPKjAjgjV7EZ4EKeEGrhao/UZ1oLIIz2dxIhO45ZTFR3a3NyTA\\\"\",\n",
    "   \"id\": \"2\",\n",
    "   \"snippet\": {\n",
    "    \"channelId\": \"UCBR8-60-B28hp2BmDPdntcQ\",\n",
    "    \"title\": \"Autos & Vehicles\",\n",
    "    \"assignable\": true\n",
    "   }\n",
    "  },\n",
    "  {\n",
    "   \"kind\": \"youtube#videoCategory\",\n",
    "   \"etag\": \"\\\"ld9biNPKjAjgjV7EZ4EKeEGrhao/nqRIq97-xe5XRZTxbknKFVe5Lmg\\\"\",\n",
    "   \"id\": \"10\",\n",
    "   \"snippet\": {\n",
    "    \"channelId\": \"UCBR8-60-B28hp2BmDPdntcQ\",\n",
    "    \"title\": \"Music\",\n",
    "    \"assignable\": true\n",
    "   }\n",
    "  },\n",
    "  {\n",
    "   \"kind\": \"youtube#videoCategory\",\n",
    "   \"etag\": \"\\\"ld9biNPKjAjgjV7EZ4EKeEGrhao/HwXKamM1Q20q9BN-oBJavSGkfDI\\\"\",\n",
    "   \"id\": \"15\",\n",
    "   \"snippet\": {\n",
    "    \"channelId\": \"UCBR8-60-B28hp2BmDPdntcQ\",\n",
    "    \"title\": \"Pets & Animals\",\n",
    "    \"assignable\": true\n",
    "   }\n",
    "  },\n",
    "  {\n",
    "   \"kind\": \"youtube#videoCategory\",\n",
    "   \"etag\": \"\\\"ld9biNPKjAjgjV7EZ4EKeEGrhao/9GQMSRjrZdHeb1OEM1XVQ9zbGec\\\"\",\n",
    "   \"id\": \"17\",\n",
    "   \"snippet\": {\n",
    "    \"channelId\": \"UCBR8-60-B28hp2BmDPdntcQ\",\n",
    "    \"title\": \"Sports\",\n",
    "    \"assignable\": true\n",
    "   }\n",
    "  },\n",
    "  {\n",
    "   \"kind\": \"youtube#videoCategory\",\n",
    "   \"etag\": \"\\\"ld9biNPKjAjgjV7EZ4EKeEGrhao/FJwVpGCVZ1yiJrqZbpqe68Sy_OE\\\"\",\n",
    "   \"id\": \"18\",\n",
    "   \"snippet\": {\n",
    "    \"channelId\": \"UCBR8-60-B28hp2BmDPdntcQ\",\n",
    "    \"title\": \"Short Movies\",\n",
    "    \"assignable\": false\n",
    "   }\n",
    "  },\n",
    "  {\n",
    "   \"kind\": \"youtube#videoCategory\",\n",
    "   \"etag\": \"\\\"ld9biNPKjAjgjV7EZ4EKeEGrhao/M-3iD9dwK7YJCafRf_DkLN8CouA\\\"\",\n",
    "   \"id\": \"19\",\n",
    "   \"snippet\": {\n",
    "    \"channelId\": \"UCBR8-60-B28hp2BmDPdntcQ\",\n",
    "    \"title\": \"Travel & Events\",\n",
    "    \"assignable\": true\n",
    "   }\n",
    "  },\n",
    "  {\n",
    "   \"kind\": \"youtube#videoCategory\",\n",
    "   \"etag\": \"\\\"ld9biNPKjAjgjV7EZ4EKeEGrhao/WmA0qYEfjWsAoyJFSw2zinhn2wM\\\"\",\n",
    "   \"id\": \"20\",\n",
    "   \"snippet\": {\n",
    "    \"channelId\": \"UCBR8-60-B28hp2BmDPdntcQ\",\n",
    "    \"title\": \"Gaming\",\n",
    "    \"assignable\": true\n",
    "   }\n",
    "  },\n",
    "  {\n",
    "   \"kind\": \"youtube#videoCategory\",\n",
    "   \"etag\": \"\\\"ld9biNPKjAjgjV7EZ4EKeEGrhao/EapFaGYG7K0StIXVf8aba249tdM\\\"\",\n",
    "   \"id\": \"21\",\n",
    "   \"snippet\": {\n",
    "    \"channelId\": \"UCBR8-60-B28hp2BmDPdntcQ\",\n",
    "    \"title\": \"Videoblogging\",\n",
    "    \"assignable\": false\n",
    "   }\n",
    "  },\n",
    "  {\n",
    "   \"kind\": \"youtube#videoCategory\",\n",
    "   \"etag\": \"\\\"ld9biNPKjAjgjV7EZ4EKeEGrhao/xId8RX7vRN8rqkbYZbNIytUQDRo\\\"\",\n",
    "   \"id\": \"22\",\n",
    "   \"snippet\": {\n",
    "    \"channelId\": \"UCBR8-60-B28hp2BmDPdntcQ\",\n",
    "    \"title\": \"People & Blogs\",\n",
    "    \"assignable\": true\n",
    "   }\n",
    "  },\n",
    "  {\n",
    "   \"kind\": \"youtube#videoCategory\",\n",
    "   \"etag\": \"\\\"ld9biNPKjAjgjV7EZ4EKeEGrhao/G9LHzQmx44rX2S5yaga_Aqtwz8M\\\"\",\n",
    "   \"id\": \"23\",\n",
    "   \"snippet\": {\n",
    "    \"channelId\": \"UCBR8-60-B28hp2BmDPdntcQ\",\n",
    "    \"title\": \"Comedy\",\n",
    "    \"assignable\": true\n",
    "   }\n",
    "  },\n",
    "  {\n",
    "   \"kind\": \"youtube#videoCategory\",\n",
    "   \"etag\": \"\\\"ld9biNPKjAjgjV7EZ4EKeEGrhao/UVB9oxX2Bvqa_w_y3vXSLVK5E_s\\\"\",\n",
    "   \"id\": \"24\",\n",
    "   \"snippet\": {\n",
    "    \"channelId\": \"UCBR8-60-B28hp2BmDPdntcQ\",\n",
    "    \"title\": \"Entertainment\",\n",
    "    \"assignable\": true\n",
    "   }\n",
    "  },\n",
    "  {\n",
    "   \"kind\": \"youtube#videoCategory\",\n",
    "   \"etag\": \"\\\"ld9biNPKjAjgjV7EZ4EKeEGrhao/QiLK0ZIrFoORdk_g2l_XR_ECjDc\\\"\",\n",
    "   \"id\": \"25\",\n",
    "   \"snippet\": {\n",
    "    \"channelId\": \"UCBR8-60-B28hp2BmDPdntcQ\",\n",
    "    \"title\": \"News & Politics\",\n",
    "    \"assignable\": true\n",
    "   }\n",
    "  },\n",
    "  {\n",
    "   \"kind\": \"youtube#videoCategory\",\n",
    "   \"etag\": \"\\\"ld9biNPKjAjgjV7EZ4EKeEGrhao/r6Ck6Z0_L0rG37VJQR200SGNA_w\\\"\",\n",
    "   \"id\": \"26\",\n",
    "   \"snippet\": {\n",
    "    \"channelId\": \"UCBR8-60-B28hp2BmDPdntcQ\",\n",
    "    \"title\": \"Howto & Style\",\n",
    "    \"assignable\": true\n",
    "   }\n",
    "  },\n",
    "  {\n",
    "   \"kind\": \"youtube#videoCategory\",\n",
    "   \"etag\": \"\\\"ld9biNPKjAjgjV7EZ4EKeEGrhao/EoYkczo9I3RCf96RveKTOgOPkUM\\\"\",\n",
    "   \"id\": \"27\",\n",
    "   \"snippet\": {\n",
    "    \"channelId\": \"UCBR8-60-B28hp2BmDPdntcQ\",\n",
    "    \"title\": \"Education\",\n",
    "    \"assignable\": true\n",
    "   }\n",
    "  },\n",
    "  {\n",
    "   \"kind\": \"youtube#videoCategory\",\n",
    "   \"etag\": \"\\\"ld9biNPKjAjgjV7EZ4EKeEGrhao/w5HjcTD82G_XA3xBctS30zS-JpQ\\\"\",\n",
    "   \"id\": \"28\",\n",
    "   \"snippet\": {\n",
    "    \"channelId\": \"UCBR8-60-B28hp2BmDPdntcQ\",\n",
    "    \"title\": \"Science & Technology\",\n",
    "    \"assignable\": true\n",
    "   }\n",
    "  },\n",
    "  {\n",
    "   \"kind\": \"youtube#videoCategory\",\n",
    "   \"etag\": \"\\\"ld9biNPKjAjgjV7EZ4EKeEGrhao/lL7uWDr_071CHxifjYG1tJrp4Uo\\\"\",\n",
    "   \"id\": \"30\",\n",
    "   \"snippet\": {\n",
    "    \"channelId\": \"UCBR8-60-B28hp2BmDPdntcQ\",\n",
    "    \"title\": \"Movies\",\n",
    "    \"assignable\": false\n",
    "   }\n",
    "  },\n",
    "  {\n",
    "   \"kind\": \"youtube#videoCategory\",\n",
    "   \"etag\": \"\\\"ld9biNPKjAjgjV7EZ4EKeEGrhao/WnuVfjO-PyFLO7NTRQIbrGE62nk\\\"\",\n",
    "   \"id\": \"31\",\n",
    "   \"snippet\": {\n",
    "    \"channelId\": \"UCBR8-60-B28hp2BmDPdntcQ\",\n",
    "    \"title\": \"Anime/Animation\",\n",
    "    \"assignable\": false\n",
    "   }\n",
    "  },\n",
    "  {\n",
    "   \"kind\": \"youtube#videoCategory\",\n",
    "   \"etag\": \"\\\"ld9biNPKjAjgjV7EZ4EKeEGrhao/ctpH2hGA_UZ3volJT_FTlOg9M00\\\"\",\n",
    "   \"id\": \"32\",\n",
    "   \"snippet\": {\n",
    "    \"channelId\": \"UCBR8-60-B28hp2BmDPdntcQ\",\n",
    "    \"title\": \"Action/Adventure\",\n",
    "    \"assignable\": false\n",
    "   }\n",
    "  },\n",
    "  {\n",
    "   \"kind\": \"youtube#videoCategory\",\n",
    "   \"etag\": \"\\\"ld9biNPKjAjgjV7EZ4EKeEGrhao/L0kR3-g1BAo5UD1PLVbQ7LkkDtQ\\\"\",\n",
    "   \"id\": \"33\",\n",
    "   \"snippet\": {\n",
    "    \"channelId\": \"UCBR8-60-B28hp2BmDPdntcQ\",\n",
    "    \"title\": \"Classics\",\n",
    "    \"assignable\": false\n",
    "   }\n",
    "  },\n",
    "  {\n",
    "   \"kind\": \"youtube#videoCategory\",\n",
    "   \"etag\": \"\\\"ld9biNPKjAjgjV7EZ4EKeEGrhao/pUZOAC_s9sfiwar639qr_wAB-aI\\\"\",\n",
    "   \"id\": \"34\",\n",
    "   \"snippet\": {\n",
    "    \"channelId\": \"UCBR8-60-B28hp2BmDPdntcQ\",\n",
    "    \"title\": \"Comedy\",\n",
    "    \"assignable\": false\n",
    "   }\n",
    "  },\n",
    "  {\n",
    "   \"kind\": \"youtube#videoCategory\",\n",
    "   \"etag\": \"\\\"ld9biNPKjAjgjV7EZ4EKeEGrhao/Xb5JLhtyNRN3AQq021Ds-OV50Jk\\\"\",\n",
    "   \"id\": \"35\",\n",
    "   \"snippet\": {\n",
    "    \"channelId\": \"UCBR8-60-B28hp2BmDPdntcQ\",\n",
    "    \"title\": \"Documentary\",\n",
    "    \"assignable\": false\n",
    "   }\n",
    "  },\n",
    "  {\n",
    "   \"kind\": \"youtube#videoCategory\",\n",
    "   \"etag\": \"\\\"ld9biNPKjAjgjV7EZ4EKeEGrhao/u8WXzF4HIhtEi805__sqjuA4lEk\\\"\",\n",
    "   \"id\": \"36\",\n",
    "   \"snippet\": {\n",
    "    \"channelId\": \"UCBR8-60-B28hp2BmDPdntcQ\",\n",
    "    \"title\": \"Drama\",\n",
    "    \"assignable\": false\n",
    "   }\n",
    "  },\n",
    "  {\n",
    "   \"kind\": \"youtube#videoCategory\",\n",
    "   \"etag\": \"\\\"ld9biNPKjAjgjV7EZ4EKeEGrhao/D04PP4Gr7wc4IV_O9G66Z4A8KWQ\\\"\",\n",
    "   \"id\": \"37\",\n",
    "   \"snippet\": {\n",
    "    \"channelId\": \"UCBR8-60-B28hp2BmDPdntcQ\",\n",
    "    \"title\": \"Family\",\n",
    "    \"assignable\": false\n",
    "   }\n",
    "  },\n",
    "  {\n",
    "   \"kind\": \"youtube#videoCategory\",\n",
    "   \"etag\": \"\\\"ld9biNPKjAjgjV7EZ4EKeEGrhao/i5-_AceGXQCEEMWU0V8CcQm_vLQ\\\"\",\n",
    "   \"id\": \"38\",\n",
    "   \"snippet\": {\n",
    "    \"channelId\": \"UCBR8-60-B28hp2BmDPdntcQ\",\n",
    "    \"title\": \"Foreign\",\n",
    "    \"assignable\": false\n",
    "   }\n",
    "  },\n",
    "  {\n",
    "   \"kind\": \"youtube#videoCategory\",\n",
    "   \"etag\": \"\\\"ld9biNPKjAjgjV7EZ4EKeEGrhao/rtlxd0zOixA9QHdIZB26-St5qgQ\\\"\",\n",
    "   \"id\": \"39\",\n",
    "   \"snippet\": {\n",
    "    \"channelId\": \"UCBR8-60-B28hp2BmDPdntcQ\",\n",
    "    \"title\": \"Horror\",\n",
    "    \"assignable\": false\n",
    "   }\n",
    "  },\n",
    "  {\n",
    "   \"kind\": \"youtube#videoCategory\",\n",
    "   \"etag\": \"\\\"ld9biNPKjAjgjV7EZ4EKeEGrhao/N1TrDFLRppxZgBowCJfJCvh0Dpg\\\"\",\n",
    "   \"id\": \"40\",\n",
    "   \"snippet\": {\n",
    "    \"channelId\": \"UCBR8-60-B28hp2BmDPdntcQ\",\n",
    "    \"title\": \"Sci-Fi/Fantasy\",\n",
    "    \"assignable\": false\n",
    "   }\n",
    "  },\n",
    "  {\n",
    "   \"kind\": \"youtube#videoCategory\",\n",
    "   \"etag\": \"\\\"ld9biNPKjAjgjV7EZ4EKeEGrhao/7UMGi6zRySqXopr_rv4sZq6Za2E\\\"\",\n",
    "   \"id\": \"41\",\n",
    "   \"snippet\": {\n",
    "    \"channelId\": \"UCBR8-60-B28hp2BmDPdntcQ\",\n",
    "    \"title\": \"Thriller\",\n",
    "    \"assignable\": false\n",
    "   }\n",
    "  },\n",
    "  {\n",
    "   \"kind\": \"youtube#videoCategory\",\n",
    "   \"etag\": \"\\\"ld9biNPKjAjgjV7EZ4EKeEGrhao/RScXhi324h8usyIetreAVb-uKeM\\\"\",\n",
    "   \"id\": \"42\",\n",
    "   \"snippet\": {\n",
    "    \"channelId\": \"UCBR8-60-B28hp2BmDPdntcQ\",\n",
    "    \"title\": \"Shorts\",\n",
    "    \"assignable\": false\n",
    "   }\n",
    "  },\n",
    "  {\n",
    "   \"kind\": \"youtube#videoCategory\",\n",
    "   \"etag\": \"\\\"ld9biNPKjAjgjV7EZ4EKeEGrhao/0n9MJVCDLpA8q7aiGVrFsuFsd0A\\\"\",\n",
    "   \"id\": \"43\",\n",
    "   \"snippet\": {\n",
    "    \"channelId\": \"UCBR8-60-B28hp2BmDPdntcQ\",\n",
    "    \"title\": \"Shows\",\n",
    "    \"assignable\": false\n",
    "   }\n",
    "  },\n",
    "  {\n",
    "   \"kind\": \"youtube#videoCategory\",\n",
    "   \"etag\": \"\\\"ld9biNPKjAjgjV7EZ4EKeEGrhao/x5NxSf5fz8hn4loSN4rvhwzD_pY\\\"\",\n",
    "   \"id\": \"44\",\n",
    "   \"snippet\": {\n",
    "    \"channelId\": \"UCBR8-60-B28hp2BmDPdntcQ\",\n",
    "    \"title\": \"Trailers\",\n",
    "    \"assignable\": false\n",
    "   }\n",
    "  }\n",
    " ]\n",
    "}'''"
   ]
  },
  {
   "cell_type": "code",
   "execution_count": 86,
   "metadata": {},
   "outputs": [],
   "source": [
    "# Now, Since the etag column is not in proper format which will restrict us to find the load and use the json \n",
    "# Module therefore we will try to find the replace the etag into structured format\n",
    "# input \"\\\"ld9biNPKjAjgjV7EZ4EKeEGrhao/x5NxSf5fz8hn4loSN4rvhwzD_pY\\\"\"\n",
    "# output \\\"ld9biNPKjAjgjV7EZ4EKeEGrhao/x5NxSf5fz8hn4loSN4rvhwzD_pY\\\"\n",
    "import regex\n",
    "\n"
   ]
  },
  {
   "cell_type": "code",
   "execution_count": 88,
   "metadata": {},
   "outputs": [
    {
     "ename": "JSONDecodeError",
     "evalue": "Expecting property name enclosed in double quotes: line 3 column 2 (char 4)",
     "output_type": "error",
     "traceback": [
      "\u001b[0;31m---------------------------------------------------------------------------\u001b[0m",
      "\u001b[0;31mJSONDecodeError\u001b[0m                           Traceback (most recent call last)",
      "Cell \u001b[0;32mIn [88], line 4\u001b[0m\n\u001b[1;32m      2\u001b[0m string \u001b[38;5;241m=\u001b[39m \u001b[38;5;124m'\u001b[39m\u001b[38;5;124m\"\u001b[39m\u001b[38;5;130;01m\\\"\u001b[39;00m\u001b[38;5;124mld9biNPKjAjgjV7EZ4EKeEGrhao/x5NxSf5fz8hn4loSN4rvhwzD_pY\u001b[39m\u001b[38;5;130;01m\\\"\u001b[39;00m\u001b[38;5;124m\"\u001b[39m\u001b[38;5;124m'\u001b[39m\n\u001b[1;32m      3\u001b[0m json_dict\u001b[38;5;241m=\u001b[39mre\u001b[38;5;241m.\u001b[39msub(\u001b[38;5;124mr\u001b[39m\u001b[38;5;124m'\u001b[39m\u001b[38;5;124m[\u001b[39m\u001b[38;5;124m\"\u001b[39m\u001b[38;5;124ml,\u001b[39m\u001b[38;5;124m\\\u001b[39m\u001b[38;5;124m\"\u001b[39m\u001b[38;5;124m]\u001b[39m\u001b[38;5;124m'\u001b[39m,\u001b[38;5;124m\"\u001b[39m\u001b[38;5;124m\"\u001b[39m,json_obj)\n\u001b[0;32m----> 4\u001b[0m json_load\u001b[38;5;241m=\u001b[39m\u001b[43mjson\u001b[49m\u001b[38;5;241;43m.\u001b[39;49m\u001b[43mloads\u001b[49m\u001b[43m(\u001b[49m\u001b[43mjson_dict\u001b[49m\u001b[43m)\u001b[49m\n\u001b[1;32m      5\u001b[0m json_dict\n",
      "File \u001b[0;32m/usr/lib/python3.10/json/__init__.py:346\u001b[0m, in \u001b[0;36mloads\u001b[0;34m(s, cls, object_hook, parse_float, parse_int, parse_constant, object_pairs_hook, **kw)\u001b[0m\n\u001b[1;32m    341\u001b[0m     s \u001b[38;5;241m=\u001b[39m s\u001b[38;5;241m.\u001b[39mdecode(detect_encoding(s), \u001b[38;5;124m'\u001b[39m\u001b[38;5;124msurrogatepass\u001b[39m\u001b[38;5;124m'\u001b[39m)\n\u001b[1;32m    343\u001b[0m \u001b[38;5;28;01mif\u001b[39;00m (\u001b[38;5;28mcls\u001b[39m \u001b[38;5;129;01mis\u001b[39;00m \u001b[38;5;28;01mNone\u001b[39;00m \u001b[38;5;129;01mand\u001b[39;00m object_hook \u001b[38;5;129;01mis\u001b[39;00m \u001b[38;5;28;01mNone\u001b[39;00m \u001b[38;5;129;01mand\u001b[39;00m\n\u001b[1;32m    344\u001b[0m         parse_int \u001b[38;5;129;01mis\u001b[39;00m \u001b[38;5;28;01mNone\u001b[39;00m \u001b[38;5;129;01mand\u001b[39;00m parse_float \u001b[38;5;129;01mis\u001b[39;00m \u001b[38;5;28;01mNone\u001b[39;00m \u001b[38;5;129;01mand\u001b[39;00m\n\u001b[1;32m    345\u001b[0m         parse_constant \u001b[38;5;129;01mis\u001b[39;00m \u001b[38;5;28;01mNone\u001b[39;00m \u001b[38;5;129;01mand\u001b[39;00m object_pairs_hook \u001b[38;5;129;01mis\u001b[39;00m \u001b[38;5;28;01mNone\u001b[39;00m \u001b[38;5;129;01mand\u001b[39;00m \u001b[38;5;129;01mnot\u001b[39;00m kw):\n\u001b[0;32m--> 346\u001b[0m     \u001b[38;5;28;01mreturn\u001b[39;00m \u001b[43m_default_decoder\u001b[49m\u001b[38;5;241;43m.\u001b[39;49m\u001b[43mdecode\u001b[49m\u001b[43m(\u001b[49m\u001b[43ms\u001b[49m\u001b[43m)\u001b[49m\n\u001b[1;32m    347\u001b[0m \u001b[38;5;28;01mif\u001b[39;00m \u001b[38;5;28mcls\u001b[39m \u001b[38;5;129;01mis\u001b[39;00m \u001b[38;5;28;01mNone\u001b[39;00m:\n\u001b[1;32m    348\u001b[0m     \u001b[38;5;28mcls\u001b[39m \u001b[38;5;241m=\u001b[39m JSONDecoder\n",
      "File \u001b[0;32m/usr/lib/python3.10/json/decoder.py:337\u001b[0m, in \u001b[0;36mJSONDecoder.decode\u001b[0;34m(self, s, _w)\u001b[0m\n\u001b[1;32m    332\u001b[0m \u001b[38;5;28;01mdef\u001b[39;00m \u001b[38;5;21mdecode\u001b[39m(\u001b[38;5;28mself\u001b[39m, s, _w\u001b[38;5;241m=\u001b[39mWHITESPACE\u001b[38;5;241m.\u001b[39mmatch):\n\u001b[1;32m    333\u001b[0m     \u001b[38;5;124;03m\"\"\"Return the Python representation of ``s`` (a ``str`` instance\u001b[39;00m\n\u001b[1;32m    334\u001b[0m \u001b[38;5;124;03m    containing a JSON document).\u001b[39;00m\n\u001b[1;32m    335\u001b[0m \n\u001b[1;32m    336\u001b[0m \u001b[38;5;124;03m    \"\"\"\u001b[39;00m\n\u001b[0;32m--> 337\u001b[0m     obj, end \u001b[38;5;241m=\u001b[39m \u001b[38;5;28;43mself\u001b[39;49m\u001b[38;5;241;43m.\u001b[39;49m\u001b[43mraw_decode\u001b[49m\u001b[43m(\u001b[49m\u001b[43ms\u001b[49m\u001b[43m,\u001b[49m\u001b[43m \u001b[49m\u001b[43midx\u001b[49m\u001b[38;5;241;43m=\u001b[39;49m\u001b[43m_w\u001b[49m\u001b[43m(\u001b[49m\u001b[43ms\u001b[49m\u001b[43m,\u001b[49m\u001b[43m \u001b[49m\u001b[38;5;241;43m0\u001b[39;49m\u001b[43m)\u001b[49m\u001b[38;5;241;43m.\u001b[39;49m\u001b[43mend\u001b[49m\u001b[43m(\u001b[49m\u001b[43m)\u001b[49m\u001b[43m)\u001b[49m\n\u001b[1;32m    338\u001b[0m     end \u001b[38;5;241m=\u001b[39m _w(s, end)\u001b[38;5;241m.\u001b[39mend()\n\u001b[1;32m    339\u001b[0m     \u001b[38;5;28;01mif\u001b[39;00m end \u001b[38;5;241m!=\u001b[39m \u001b[38;5;28mlen\u001b[39m(s):\n",
      "File \u001b[0;32m/usr/lib/python3.10/json/decoder.py:353\u001b[0m, in \u001b[0;36mJSONDecoder.raw_decode\u001b[0;34m(self, s, idx)\u001b[0m\n\u001b[1;32m    344\u001b[0m \u001b[38;5;124;03m\"\"\"Decode a JSON document from ``s`` (a ``str`` beginning with\u001b[39;00m\n\u001b[1;32m    345\u001b[0m \u001b[38;5;124;03ma JSON document) and return a 2-tuple of the Python\u001b[39;00m\n\u001b[1;32m    346\u001b[0m \u001b[38;5;124;03mrepresentation and the index in ``s`` where the document ended.\u001b[39;00m\n\u001b[0;32m   (...)\u001b[0m\n\u001b[1;32m    350\u001b[0m \n\u001b[1;32m    351\u001b[0m \u001b[38;5;124;03m\"\"\"\u001b[39;00m\n\u001b[1;32m    352\u001b[0m \u001b[38;5;28;01mtry\u001b[39;00m:\n\u001b[0;32m--> 353\u001b[0m     obj, end \u001b[38;5;241m=\u001b[39m \u001b[38;5;28;43mself\u001b[39;49m\u001b[38;5;241;43m.\u001b[39;49m\u001b[43mscan_once\u001b[49m\u001b[43m(\u001b[49m\u001b[43ms\u001b[49m\u001b[43m,\u001b[49m\u001b[43m \u001b[49m\u001b[43midx\u001b[49m\u001b[43m)\u001b[49m\n\u001b[1;32m    354\u001b[0m \u001b[38;5;28;01mexcept\u001b[39;00m \u001b[38;5;167;01mStopIteration\u001b[39;00m \u001b[38;5;28;01mas\u001b[39;00m err:\n\u001b[1;32m    355\u001b[0m     \u001b[38;5;28;01mraise\u001b[39;00m JSONDecodeError(\u001b[38;5;124m\"\u001b[39m\u001b[38;5;124mExpecting value\u001b[39m\u001b[38;5;124m\"\u001b[39m, s, err\u001b[38;5;241m.\u001b[39mvalue) \u001b[38;5;28;01mfrom\u001b[39;00m \u001b[38;5;28mNone\u001b[39m\n",
      "\u001b[0;31mJSONDecodeError\u001b[0m: Expecting property name enclosed in double quotes: line 3 column 2 (char 4)"
     ]
    }
   ],
   "source": [
    "import re\n",
    "string = '\"\\\"ld9biNPKjAjgjV7EZ4EKeEGrhao/x5NxSf5fz8hn4loSN4rvhwzD_pY\\\"\"'\n",
    "json_dict=re.sub(r'[\"l,\\\"]',\"\",json_obj)\n",
    "json_load=json.loads(json_dict)\n",
    "json_dict"
   ]
  },
  {
   "cell_type": "code",
   "execution_count": 98,
   "metadata": {},
   "outputs": [
    {
     "ename": "JSONDecodeError",
     "evalue": "Expecting property name enclosed in double quotes: line 2 column 4 (char 6)",
     "output_type": "error",
     "traceback": [
      "\u001b[0;31m---------------------------------------------------------------------------\u001b[0m",
      "\u001b[0;31mJSONDecodeError\u001b[0m                           Traceback (most recent call last)",
      "Cell \u001b[0;32mIn [98], line 12\u001b[0m\n\u001b[1;32m     10\u001b[0m json_dict\u001b[38;5;241m=\u001b[39mre\u001b[38;5;241m.\u001b[39msub(\u001b[38;5;124mr\u001b[39m\u001b[38;5;124m'\u001b[39m\u001b[38;5;124m[\u001b[39m\u001b[38;5;124m\"\u001b[39m\u001b[38;5;124ml,$\u001b[39m\u001b[38;5;124m\\\u001b[39m\u001b[38;5;124m\"\u001b[39m\u001b[38;5;124m]\u001b[39m\u001b[38;5;124m'\u001b[39m,\u001b[38;5;124m\"\u001b[39m\u001b[38;5;124m\"\u001b[39m,string)\n\u001b[1;32m     11\u001b[0m json_dict\n\u001b[0;32m---> 12\u001b[0m json_load\u001b[38;5;241m=\u001b[39m\u001b[43mjson\u001b[49m\u001b[38;5;241;43m.\u001b[39;49m\u001b[43mloads\u001b[49m\u001b[43m(\u001b[49m\u001b[43mjson_dict\u001b[49m\u001b[43m)\u001b[49m\n\u001b[1;32m     13\u001b[0m \u001b[38;5;66;03m#json_dict\u001b[39;00m\n",
      "File \u001b[0;32m/usr/lib/python3.10/json/__init__.py:346\u001b[0m, in \u001b[0;36mloads\u001b[0;34m(s, cls, object_hook, parse_float, parse_int, parse_constant, object_pairs_hook, **kw)\u001b[0m\n\u001b[1;32m    341\u001b[0m     s \u001b[38;5;241m=\u001b[39m s\u001b[38;5;241m.\u001b[39mdecode(detect_encoding(s), \u001b[38;5;124m'\u001b[39m\u001b[38;5;124msurrogatepass\u001b[39m\u001b[38;5;124m'\u001b[39m)\n\u001b[1;32m    343\u001b[0m \u001b[38;5;28;01mif\u001b[39;00m (\u001b[38;5;28mcls\u001b[39m \u001b[38;5;129;01mis\u001b[39;00m \u001b[38;5;28;01mNone\u001b[39;00m \u001b[38;5;129;01mand\u001b[39;00m object_hook \u001b[38;5;129;01mis\u001b[39;00m \u001b[38;5;28;01mNone\u001b[39;00m \u001b[38;5;129;01mand\u001b[39;00m\n\u001b[1;32m    344\u001b[0m         parse_int \u001b[38;5;129;01mis\u001b[39;00m \u001b[38;5;28;01mNone\u001b[39;00m \u001b[38;5;129;01mand\u001b[39;00m parse_float \u001b[38;5;129;01mis\u001b[39;00m \u001b[38;5;28;01mNone\u001b[39;00m \u001b[38;5;129;01mand\u001b[39;00m\n\u001b[1;32m    345\u001b[0m         parse_constant \u001b[38;5;129;01mis\u001b[39;00m \u001b[38;5;28;01mNone\u001b[39;00m \u001b[38;5;129;01mand\u001b[39;00m object_pairs_hook \u001b[38;5;129;01mis\u001b[39;00m \u001b[38;5;28;01mNone\u001b[39;00m \u001b[38;5;129;01mand\u001b[39;00m \u001b[38;5;129;01mnot\u001b[39;00m kw):\n\u001b[0;32m--> 346\u001b[0m     \u001b[38;5;28;01mreturn\u001b[39;00m \u001b[43m_default_decoder\u001b[49m\u001b[38;5;241;43m.\u001b[39;49m\u001b[43mdecode\u001b[49m\u001b[43m(\u001b[49m\u001b[43ms\u001b[49m\u001b[43m)\u001b[49m\n\u001b[1;32m    347\u001b[0m \u001b[38;5;28;01mif\u001b[39;00m \u001b[38;5;28mcls\u001b[39m \u001b[38;5;129;01mis\u001b[39;00m \u001b[38;5;28;01mNone\u001b[39;00m:\n\u001b[1;32m    348\u001b[0m     \u001b[38;5;28mcls\u001b[39m \u001b[38;5;241m=\u001b[39m JSONDecoder\n",
      "File \u001b[0;32m/usr/lib/python3.10/json/decoder.py:337\u001b[0m, in \u001b[0;36mJSONDecoder.decode\u001b[0;34m(self, s, _w)\u001b[0m\n\u001b[1;32m    332\u001b[0m \u001b[38;5;28;01mdef\u001b[39;00m \u001b[38;5;21mdecode\u001b[39m(\u001b[38;5;28mself\u001b[39m, s, _w\u001b[38;5;241m=\u001b[39mWHITESPACE\u001b[38;5;241m.\u001b[39mmatch):\n\u001b[1;32m    333\u001b[0m     \u001b[38;5;124;03m\"\"\"Return the Python representation of ``s`` (a ``str`` instance\u001b[39;00m\n\u001b[1;32m    334\u001b[0m \u001b[38;5;124;03m    containing a JSON document).\u001b[39;00m\n\u001b[1;32m    335\u001b[0m \n\u001b[1;32m    336\u001b[0m \u001b[38;5;124;03m    \"\"\"\u001b[39;00m\n\u001b[0;32m--> 337\u001b[0m     obj, end \u001b[38;5;241m=\u001b[39m \u001b[38;5;28;43mself\u001b[39;49m\u001b[38;5;241;43m.\u001b[39;49m\u001b[43mraw_decode\u001b[49m\u001b[43m(\u001b[49m\u001b[43ms\u001b[49m\u001b[43m,\u001b[49m\u001b[43m \u001b[49m\u001b[43midx\u001b[49m\u001b[38;5;241;43m=\u001b[39;49m\u001b[43m_w\u001b[49m\u001b[43m(\u001b[49m\u001b[43ms\u001b[49m\u001b[43m,\u001b[49m\u001b[43m \u001b[49m\u001b[38;5;241;43m0\u001b[39;49m\u001b[43m)\u001b[49m\u001b[38;5;241;43m.\u001b[39;49m\u001b[43mend\u001b[49m\u001b[43m(\u001b[49m\u001b[43m)\u001b[49m\u001b[43m)\u001b[49m\n\u001b[1;32m    338\u001b[0m     end \u001b[38;5;241m=\u001b[39m _w(s, end)\u001b[38;5;241m.\u001b[39mend()\n\u001b[1;32m    339\u001b[0m     \u001b[38;5;28;01mif\u001b[39;00m end \u001b[38;5;241m!=\u001b[39m \u001b[38;5;28mlen\u001b[39m(s):\n",
      "File \u001b[0;32m/usr/lib/python3.10/json/decoder.py:353\u001b[0m, in \u001b[0;36mJSONDecoder.raw_decode\u001b[0;34m(self, s, idx)\u001b[0m\n\u001b[1;32m    344\u001b[0m \u001b[38;5;124;03m\"\"\"Decode a JSON document from ``s`` (a ``str`` beginning with\u001b[39;00m\n\u001b[1;32m    345\u001b[0m \u001b[38;5;124;03ma JSON document) and return a 2-tuple of the Python\u001b[39;00m\n\u001b[1;32m    346\u001b[0m \u001b[38;5;124;03mrepresentation and the index in ``s`` where the document ended.\u001b[39;00m\n\u001b[0;32m   (...)\u001b[0m\n\u001b[1;32m    350\u001b[0m \n\u001b[1;32m    351\u001b[0m \u001b[38;5;124;03m\"\"\"\u001b[39;00m\n\u001b[1;32m    352\u001b[0m \u001b[38;5;28;01mtry\u001b[39;00m:\n\u001b[0;32m--> 353\u001b[0m     obj, end \u001b[38;5;241m=\u001b[39m \u001b[38;5;28;43mself\u001b[39;49m\u001b[38;5;241;43m.\u001b[39;49m\u001b[43mscan_once\u001b[49m\u001b[43m(\u001b[49m\u001b[43ms\u001b[49m\u001b[43m,\u001b[49m\u001b[43m \u001b[49m\u001b[43midx\u001b[49m\u001b[43m)\u001b[49m\n\u001b[1;32m    354\u001b[0m \u001b[38;5;28;01mexcept\u001b[39;00m \u001b[38;5;167;01mStopIteration\u001b[39;00m \u001b[38;5;28;01mas\u001b[39;00m err:\n\u001b[1;32m    355\u001b[0m     \u001b[38;5;28;01mraise\u001b[39;00m JSONDecodeError(\u001b[38;5;124m\"\u001b[39m\u001b[38;5;124mExpecting value\u001b[39m\u001b[38;5;124m\"\u001b[39m, s, err\u001b[38;5;241m.\u001b[39mvalue) \u001b[38;5;28;01mfrom\u001b[39;00m \u001b[38;5;28mNone\u001b[39m\n",
      "\u001b[0;31mJSONDecodeError\u001b[0m: Expecting property name enclosed in double quotes: line 2 column 4 (char 6)"
     ]
    }
   ],
   "source": [
    "string=''' {\n",
    "   \"kind\": \"youtube#videoCategory\",\n",
    "   \"etag\": \"\\\"ld9biNPKjAjgjV7EZ4EKeEGrhao/7UMGi6zRySqXopr_rv4sZq6Za2E\\\"\",\n",
    "   \"id\": \"41\",\n",
    "   \"snippet\": {\n",
    "    \"channelId\": \"UCBR8-60-B28hp2BmDPdntcQ\",\n",
    "    \"title\": \"Thriller\",\n",
    "    \"assignable\": false\n",
    "   }'''\n",
    "json_dict=re.sub(r'[\"l,$\\\"]',\"\",string)\n",
    "json_dict\n",
    "json_load=json.loads(json_dict)\n",
    "#json_dict\n"
   ]
  },
  {
   "cell_type": "code",
   "execution_count": 99,
   "metadata": {},
   "outputs": [
    {
     "data": {
      "text/plain": [
       "' {\\n   kind: youtube#videoCategory\\n   etag: d9biNPKjAjgjV7EZ4EKeEGrhao/7UMGi6zRySqXopr_rv4sZq6Za2E\\n   id: 41\\n   snippet: {\\n    channeId: UCBR8-60-B28hp2BmDPdntcQ\\n    tite: Thrier\\n    assignabe: fase\\n   }'"
      ]
     },
     "execution_count": 99,
     "metadata": {},
     "output_type": "execute_result"
    }
   ],
   "source": [
    "json_dict"
   ]
  },
  {
   "cell_type": "code",
   "execution_count": null,
   "metadata": {},
   "outputs": [],
   "source": []
  }
 ],
 "metadata": {
  "kernelspec": {
   "display_name": "Python 3 (ipykernel)",
   "language": "python",
   "name": "python3"
  },
  "language_info": {
   "codemirror_mode": {
    "name": "ipython",
    "version": 3
   },
   "file_extension": ".py",
   "mimetype": "text/x-python",
   "name": "python",
   "nbconvert_exporter": "python",
   "pygments_lexer": "ipython3",
   "version": "3.10.6"
  }
 },
 "nbformat": 4,
 "nbformat_minor": 2
}
